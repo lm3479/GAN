{
 "cells": [
  {
   "cell_type": "code",
   "execution_count": 2,
   "metadata": {},
   "outputs": [
    {
     "ename": "IndexError",
     "evalue": "index 64 is out of bounds for axis 0 with size 64",
     "output_type": "error",
     "traceback": [
      "\u001b[1;31m---------------------------------------------------------------------------\u001b[0m",
      "\u001b[1;31mIndexError\u001b[0m                                Traceback (most recent call last)",
      "\u001b[1;32mc:\\Users\\hasan\\Documents\\GitHub\\CrysGraph\\test.ipynb Cell 1\u001b[0m in \u001b[0;36m<cell line: 6>\u001b[1;34m()\u001b[0m\n\u001b[0;32m      <a href='vscode-notebook-cell:/c%3A/Users/hasan/Documents/GitHub/CrysGraph/test.ipynb#W0sZmlsZQ%3D%3D?line=1'>2</a>\u001b[0m \u001b[39mfrom\u001b[39;00m \u001b[39mCrysGraph\u001b[39;00m \u001b[39mimport\u001b[39;00m CrysTensor \u001b[39mas\u001b[39;00m CG\n\u001b[0;32m      <a href='vscode-notebook-cell:/c%3A/Users/hasan/Documents/GitHub/CrysGraph/test.ipynb#W0sZmlsZQ%3D%3D?line=3'>4</a>\u001b[0m graph_generator \u001b[39m=\u001b[39m CG\n\u001b[1;32m----> <a href='vscode-notebook-cell:/c%3A/Users/hasan/Documents/GitHub/CrysGraph/test.ipynb#W0sZmlsZQ%3D%3D?line=5'>6</a>\u001b[0m t \u001b[39m=\u001b[39m graph_generator(\u001b[39m\"\u001b[39;49m\u001b[39mC:/Users/hasan/Documents/GitHub/CrysGraph/test/sample_cifs\u001b[39;49m\u001b[39m\"\u001b[39;49m)\u001b[39m.\u001b[39;49mget_crys_tensor()\n\u001b[0;32m      <a href='vscode-notebook-cell:/c%3A/Users/hasan/Documents/GitHub/CrysGraph/test.ipynb#W0sZmlsZQ%3D%3D?line=7'>8</a>\u001b[0m p \u001b[39m=\u001b[39m np\u001b[39m.\u001b[39mndarray(np\u001b[39m.\u001b[39msave(\u001b[39m\"\u001b[39m\u001b[39mpx2g.npy\u001b[39m\u001b[39m\"\u001b[39m, t))\n",
      "File \u001b[1;32mc:\\Users\\hasan\\Documents\\GitHub\\CrysGraph\\CrysGraph.py:260\u001b[0m, in \u001b[0;36mCrysTensor.get_crys_tensor\u001b[1;34m(self, normalized)\u001b[0m\n\u001b[0;32m    258\u001b[0m crys_tensor_np \u001b[39m=\u001b[39m np\u001b[39m.\u001b[39mzeros((\u001b[39mlen\u001b[39m(\u001b[39mself\u001b[39m\u001b[39m.\u001b[39mcrys_tensor), \u001b[39m64\u001b[39m, \u001b[39m64\u001b[39m, \u001b[39m4\u001b[39m))\n\u001b[0;32m    259\u001b[0m \u001b[39mfor\u001b[39;00m idx, crys_graph \u001b[39min\u001b[39;00m \u001b[39menumerate\u001b[39m(\u001b[39mself\u001b[39m\u001b[39m.\u001b[39mcrys_tensor):\n\u001b[1;32m--> 260\u001b[0m   crys_tensor_np[idx, :, :, :] \u001b[39m=\u001b[39m crys_graph\u001b[39m.\u001b[39;49mget_crys_graph(normalized)\n\u001b[0;32m    261\u001b[0m \u001b[39mreturn\u001b[39;00m crys_tensor_np\n",
      "File \u001b[1;32mc:\\Users\\hasan\\Documents\\GitHub\\CrysGraph\\CrysGraph.py:238\u001b[0m, in \u001b[0;36mCrysGraph.get_crys_graph\u001b[1;34m(self, normalized)\u001b[0m\n\u001b[0;32m    236\u001b[0m \u001b[39mdef\u001b[39;00m \u001b[39mget_crys_graph\u001b[39m(\u001b[39mself\u001b[39m, normalized):\n\u001b[0;32m    237\u001b[0m   \u001b[39mif\u001b[39;00m normalized:\n\u001b[1;32m--> 238\u001b[0m     \u001b[39mself\u001b[39;49m\u001b[39m.\u001b[39;49mnormalize_crysgraph()\n\u001b[0;32m    239\u001b[0m     \u001b[39mreturn\u001b[39;00m \u001b[39mself\u001b[39m\u001b[39m.\u001b[39mcrysgraph\n\u001b[0;32m    240\u001b[0m   \u001b[39melse\u001b[39;00m:\n",
      "File \u001b[1;32mc:\\Users\\hasan\\Documents\\GitHub\\CrysGraph\\CrysGraph.py:83\u001b[0m, in \u001b[0;36mCrysGraph.normalize_crysgraph\u001b[1;34m(self, method)\u001b[0m\n\u001b[0;32m     79\u001b[0m \u001b[39mif\u001b[39;00m method \u001b[39m==\u001b[39m \u001b[39m\"\u001b[39m\u001b[39mdivide_near_max\u001b[39m\u001b[39m\"\u001b[39m:\n\u001b[0;32m     80\u001b[0m   \u001b[39mfor\u001b[39;00m site_idx \u001b[39min\u001b[39;00m \u001b[39mrange\u001b[39m(\u001b[39mself\u001b[39m\u001b[39m.\u001b[39mcrysgraph\u001b[39m.\u001b[39mshape[\u001b[39m0\u001b[39m]):\n\u001b[0;32m     81\u001b[0m \n\u001b[0;32m     82\u001b[0m     \u001b[39m#Check if an atom is present\u001b[39;00m\n\u001b[1;32m---> 83\u001b[0m     \u001b[39mif\u001b[39;00m \u001b[39mself\u001b[39;49m\u001b[39m.\u001b[39;49mcrysgraph[\u001b[39m12\u001b[39;49m \u001b[39m+\u001b[39;49m site_idx, \u001b[39m0\u001b[39;49m, \u001b[39m0\u001b[39;49m] \u001b[39m!=\u001b[39m \u001b[39m0.0\u001b[39m:\n\u001b[0;32m     84\u001b[0m       \u001b[39mself\u001b[39m\u001b[39m.\u001b[39mcrysgraph[\u001b[39m0\u001b[39m, \u001b[39m12\u001b[39m \u001b[39m+\u001b[39m site_idx, :] \u001b[39m/\u001b[39m\u001b[39m=\u001b[39m \u001b[39mself\u001b[39m\u001b[39m.\u001b[39mnormalize_near_max[\u001b[39m\"\u001b[39m\u001b[39matom\u001b[39m\u001b[39m\"\u001b[39m]\n\u001b[0;32m     85\u001b[0m       \u001b[39mself\u001b[39m\u001b[39m.\u001b[39mcrysgraph[\u001b[39m12\u001b[39m \u001b[39m+\u001b[39m site_idx, \u001b[39m0\u001b[39m, :] \u001b[39m/\u001b[39m\u001b[39m=\u001b[39m \u001b[39mself\u001b[39m\u001b[39m.\u001b[39mnormalize_near_max[\u001b[39m\"\u001b[39m\u001b[39matom\u001b[39m\u001b[39m\"\u001b[39m]\n",
      "\u001b[1;31mIndexError\u001b[0m: index 64 is out of bounds for axis 0 with size 64"
     ]
    }
   ],
   "source": [
    "import numpy as np\n",
    "from CrysGraph import CrysTensor as CG\n",
    "\n",
    "graph_generator = CG\n",
    "\n",
    "t = graph_generator(\"C:/Users/hasan/Documents/GitHub/CrysGraph/test/sample_cifs\").get_crys_tensor()\n",
    "\n",
    "p = np.ndarray(np.save(\"px2g.npy\", t))\n",
    "#print(np.ndarray(p))"
   ]
  }
 ],
 "metadata": {
  "kernelspec": {
   "display_name": "Python 3.10.4 ('CrysGraph')",
   "language": "python",
   "name": "python3"
  },
  "language_info": {
   "codemirror_mode": {
    "name": "ipython",
    "version": 3
   },
   "file_extension": ".py",
   "mimetype": "text/x-python",
   "name": "python",
   "nbconvert_exporter": "python",
   "pygments_lexer": "ipython3",
   "version": "3.10.4"
  },
  "orig_nbformat": 4,
  "vscode": {
   "interpreter": {
    "hash": "df848e4d0c9130849ff0ee6c817646539c7966634cc1ede34e4cca55b4093645"
   }
  }
 },
 "nbformat": 4,
 "nbformat_minor": 2
}
